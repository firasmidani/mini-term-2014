{
 "metadata": {
  "name": ""
 },
 "nbformat": 3,
 "nbformat_minor": 0,
 "worksheets": [
  {
   "cells": [
    {
     "cell_type": "markdown",
     "metadata": {},
     "source": [
      "# Reading Questions\n",
      "\n",
      "**Paper**: A synthetic oscillatory network of transcriptional regulators. Elowitz MB, Leibler S. Nature. 2000 Jan 20;403(6767):335-8. [DOI Link](http://dx.doi.org/10.1038/35002125)\n",
      "\n",
      "1.  How was the repressilator network that Elowitz and Liebler explored and constructed?  How did they monitor the behavior of the network in E. coli cells?\n",
      "\n",
      "2. Elowitz and Liebler developed a mathematical model of the repressilator to understand the space of dynamical behaviors of the system.  What sort of parameters did they consider important in their model?  What sort of outcomes did their model predict?\n",
      "\n",
      "3. Did the in vivo experiments that Elowitz and Liebler carried out agree with their modeling results?  What other types of phenomena did Elowitz and Liebler observe in their experiments?\n",
      "\n",
      "![repressilator](http://people.duke.edu/~pm21/repressilator-fig.png)"
     ]
    },
    {
     "cell_type": "markdown",
     "metadata": {},
     "source": [
      "# Modeling the  Repressilator"
     ]
    },
    {
     "cell_type": "markdown",
     "metadata": {},
     "source": [
      "Implement a model of the repressilator using the logic approximation framework we explored in class sessions 4 and 5."
     ]
    },
    {
     "cell_type": "code",
     "collapsed": false,
     "input": [
      "## define the differential equations for each gene here"
     ],
     "language": "python",
     "metadata": {},
     "outputs": [],
     "prompt_number": 4
    },
    {
     "cell_type": "code",
     "collapsed": false,
     "input": [
      "### define the simulations here"
     ],
     "language": "python",
     "metadata": {},
     "outputs": [],
     "prompt_number": 7
    },
    {
     "cell_type": "code",
     "collapsed": false,
     "input": [
      "## generate some plots here"
     ],
     "language": "python",
     "metadata": {},
     "outputs": [],
     "prompt_number": 6
    },
    {
     "cell_type": "markdown",
     "metadata": {},
     "source": [
      "### Questions, Hybrid models\n",
      "\n",
      "1. For what range of parameters do you get oscillatory behaviors vs is stable fixed points?\n"
     ]
    }
   ],
   "metadata": {}
  }
 ]
}